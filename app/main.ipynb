{
 "cells": [
  {
   "cell_type": "code",
   "execution_count": null,
   "metadata": {},
   "outputs": [],
   "source": [
    "%matplotlib notebook\n",
    "import numpy as np\n",
    "import plotly.graph_objects as go"
   ]
  },
  {
   "cell_type": "code",
   "execution_count": null,
   "metadata": {},
   "outputs": [],
   "source": [
    "def mesh_tri(x, y, z, dx, dy):\n",
    "    delta = 0.1\n",
    "    return go.Mesh3d(\n",
    "        x=[x,          x-delta,          x+delta],\n",
    "        y=[y-delta,    y+delta,          y+delta],\n",
    "        z=[z-delta*dy, z+delta*(-dx+dy), z+delta*(dx+dy)],\n",
    "        colorbar_title='z',\n",
    "        colorscale=[[0, 'gold'],\n",
    "                    [0.5, 'mediumturquoise'],\n",
    "                    [1, 'magenta']],\n",
    "        name='y',\n",
    "        showscale=True\n",
    "    )"
   ]
  },
  {
   "cell_type": "code",
   "execution_count": null,
   "metadata": {},
   "outputs": [],
   "source": [
    "scene=dict(camera=dict(eye=dict(x=1.15, y=1.15, z=0.8)), #the default values are 1.25, 1.25, 1.25\n",
    "           xaxis=dict(),\n",
    "           yaxis=dict(),\n",
    "           zaxis=dict(),\n",
    "           aspectmode=\"cube\", #this string can be 'data', 'cube', 'auto', 'manual'\n",
    "           #a custom aspectratio is defined as follows:\n",
    "           aspectratio=dict(x=1, y=1, z=0.95)\n",
    "           )\n",
    "layout = go.Layout(\n",
    "    width=1024,\n",
    "    height=1024,\n",
    "    scene = dict(\n",
    "        xaxis = dict(range = [7,9]),\n",
    "        yaxis = dict(range = [0,2]),\n",
    "        zaxis = dict(range = 0.1+np.array([1,3]) ))\n",
    ")"
   ]
  },
  {
   "cell_type": "code",
   "execution_count": null,
   "metadata": {},
   "outputs": [],
   "source": [
    "scene=dict(camera=dict(eye=dict(x=1.15, y=1.15, z=0.8)), #the default values are 1.25, 1.25, 1.25\n",
    "           xaxis=dict(),\n",
    "           yaxis=dict(),\n",
    "           zaxis=dict(),\n",
    "           aspectmode=\"data\", #this string can be 'data', 'cube', 'auto', 'manual'\n",
    "           #a custom aspectratio is defined as follows:\n",
    "           aspectratio=dict(x=1, y=1, z=0.95)\n",
    "           )\n",
    "\n",
    "layout = go.Layout(\n",
    "    width=1024,\n",
    "    height=1024,\n",
    "    scene = scene\n",
    ")"
   ]
  },
  {
   "cell_type": "code",
   "execution_count": null,
   "metadata": {
    "scrolled": false
   },
   "outputs": [],
   "source": [
    "lift = np.loadtxt(\"lift.txt\")\n",
    "hori = np.loadtxt(\"hori.txt\")\n",
    "\n",
    "data = lift\n",
    "\n",
    "tris = [mesh_tri(*x) for x in hori]\n",
    "\n",
    "marker_data = go.Scatter3d(\n",
    "    x=data[:,0], \n",
    "    y=data[:,1], \n",
    "    z=data[:,2], \n",
    "    #marker=go.scatter3d.Marker(size=12), \n",
    "    #opacity=0.8, \n",
    "    #mode='markers'\n",
    "    mode='lines',\n",
    "    line=dict(\n",
    "        colorscale='Viridis',\n",
    "        color=data[:,2],\n",
    "        width=10\n",
    "    )\n",
    ")\n",
    "fig = go.Figure(layout=layout, data=[marker_data] + tris)\n",
    "\n",
    "fig.show()"
   ]
  }
 ],
 "metadata": {
  "kernelspec": {
   "display_name": "Python 3",
   "language": "python",
   "name": "python3"
  },
  "language_info": {
   "codemirror_mode": {
    "name": "ipython",
    "version": 3
   },
   "file_extension": ".py",
   "mimetype": "text/x-python",
   "name": "python",
   "nbconvert_exporter": "python",
   "pygments_lexer": "ipython3",
   "version": "3.7.0"
  }
 },
 "nbformat": 4,
 "nbformat_minor": 4
}
